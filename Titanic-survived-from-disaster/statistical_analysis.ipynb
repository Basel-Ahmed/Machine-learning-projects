{
 "cells": [
  {
   "cell_type": "code",
   "execution_count": 1,
   "metadata": {},
   "outputs": [],
   "source": [
    "import pandas as pd \n",
    "import numpy as np\n",
    "import scipy\n",
    "import statsmodels.formula.api as smf\n",
    "import statsmodels.stats.multicomp as multi \n",
    "import seaborn as sns\n"
   ]
  },
  {
   "cell_type": "code",
   "execution_count": 3,
   "metadata": {},
   "outputs": [],
   "source": [
    "df=pd.read_csv(\"clean_titanic_train.csv\")"
   ]
  },
  {
   "cell_type": "code",
   "execution_count": 4,
   "metadata": {},
   "outputs": [
    {
     "name": "stdout",
     "output_type": "stream",
     "text": [
      "<class 'pandas.core.frame.DataFrame'>\n",
      "RangeIndex: 889 entries, 0 to 888\n",
      "Data columns (total 9 columns):\n",
      "Survived    889 non-null int64\n",
      "Pclass      889 non-null int64\n",
      "Sex         889 non-null object\n",
      "Age         889 non-null float64\n",
      "SibSp       889 non-null int64\n",
      "Parch       889 non-null int64\n",
      "Ticket      889 non-null object\n",
      "Fare        889 non-null float64\n",
      "Embarked    889 non-null object\n",
      "dtypes: float64(2), int64(4), object(3)\n",
      "memory usage: 62.6+ KB\n"
     ]
    }
   ],
   "source": [
    "df.info()"
   ]
  },
  {
   "cell_type": "markdown",
   "metadata": {},
   "source": [
    "we can sus pect that female has higher chnace of survival over males \n",
    "null say that there no relation exist between male and survived (independance) proportion of male survived =proportion of female survived\n",
    "\n",
    "we first begin with descriptive analytics and draw distribution of male alone, survived alone and then 2 together"
   ]
  },
  {
   "cell_type": "code",
   "execution_count": 10,
   "metadata": {},
   "outputs": [
    {
     "data": {
      "text/plain": [
       "<matplotlib.axes._subplots.AxesSubplot at 0x986b508438>"
      ]
     },
     "execution_count": 10,
     "metadata": {},
     "output_type": "execute_result"
    },
    {
     "data": {
      "image/png": "[encoded data removed]",
      "text/plain": [
       "<matplotlib.figure.Figure at 0x986b4cb208>"
      ]
     },
     "metadata": {},
     "output_type": "display_data"
    }
   ],
   "source": [
    "sns.countplot(x='Survived',data=df)\n"
   ]
  },
  {
   "cell_type": "code",
   "execution_count": 11,
   "metadata": {},
   "outputs": [
    {
     "data": {
      "text/plain": [
       "<matplotlib.axes._subplots.AxesSubplot at 0x986b529668>"
      ]
     },
     "execution_count": 11,
     "metadata": {},
     "output_type": "execute_result"
    },
    {
     "data": {
      "image/png": "[encoded data removed]",
      "text/plain": [
       "<matplotlib.figure.Figure at 0x986ad434e0>"
      ]
     },
     "metadata": {},
     "output_type": "display_data"
    }
   ],
   "source": [
    "sns.countplot(x='Sex',data=df)"
   ]
  },
  {
   "cell_type": "code",
   "execution_count": 22,
   "metadata": {},
   "outputs": [
    {
     "data": {
      "text/plain": [
       "<seaborn.axisgrid.FacetGrid at 0x986bcbd780>"
      ]
     },
     "execution_count": 22,
     "metadata": {},
     "output_type": "execute_result"
    },
    {
     "data": {
      "image/png": "[encoded data removed]",
      "text/plain": [
       "<matplotlib.figure.Figure at 0x986bd75b00>"
      ]
     },
     "metadata": {},
     "output_type": "display_data"
    }
   ],
   "source": [
    "sns.factorplot(x='Sex',y='Survived',data=df,kind='bar')"
   ]
  },
  {
   "cell_type": "markdown",
   "metadata": {},
   "source": [
    "we can see that there is difference in distribution in survived due to gender that females has higher percentages of survival\n",
    "but this not enough to gegnralize"
   ]
  },
  {
   "cell_type": "code",
   "execution_count": 31,
   "metadata": {},
   "outputs": [
    {
     "name": "stdout",
     "output_type": "stream",
     "text": [
      "Sex         female      male\n",
      "Survived                    \n",
      "0         0.259615  0.811092\n",
      "1         0.740385  0.188908\n"
     ]
    }
   ],
   "source": [
    "ct1=pd.crosstab(df['Survived'],df['Sex'])\n",
    "col=ct1.sum(axis=0)\n",
    "proportions=ct1/col\n",
    "print(proportions)"
   ]
  },
  {
   "cell_type": "code",
   "execution_count": 33,
   "metadata": {},
   "outputs": [
    {
     "name": "stdout",
     "output_type": "stream",
     "text": [
      "(258.4266104463763, 3.7799096665576e-58, 1, array([[192.67491564, 356.32508436],\n",
      "       [119.32508436, 220.67491564]]))\n"
     ]
    }
   ],
   "source": [
    "cs2= scipy.stats.chi2_contingency(ct1)\n",
    "print(cs2)"
   ]
  },
  {
   "cell_type": "markdown",
   "metadata": {},
   "source": [
    "We can see that the chi square is very large and p-vales is so small so we can reject null confidently and say that\n",
    "There is an association between Sex and being survived that being female has higher chance of survival"
   ]
  },
  {
   "cell_type": "markdown",
   "metadata": {},
   "source": [
    "We also can suspect that passengers of higher class has higher chance of survival"
   ]
  },
  {
   "cell_type": "code",
   "execution_count": 35,
   "metadata": {},
   "outputs": [
    {
     "data": {
      "text/plain": [
       "<seaborn.axisgrid.FacetGrid at 0x986bc7df28>"
      ]
     },
     "execution_count": 35,
     "metadata": {},
     "output_type": "execute_result"
    },
    {
     "data": {
      "image/png": "[encoded data removed]",
      "text/plain": [
       "<matplotlib.figure.Figure at 0x986bc667f0>"
      ]
     },
     "metadata": {},
     "output_type": "display_data"
    }
   ],
   "source": [
    "sns.factorplot(x='Pclass',data=df,kind='count')"
   ]
  },
  {
   "cell_type": "code",
   "execution_count": 69,
   "metadata": {},
   "outputs": [
    {
     "data": {
      "text/plain": [
       "<seaborn.axisgrid.FacetGrid at 0x9872c606a0>"
      ]
     },
     "execution_count": 69,
     "metadata": {},
     "output_type": "execute_result"
    },
    {
     "data": {
      "image/png": "[encoded data removed]",
      "text/plain": [
       "<matplotlib.figure.Figure at 0x9873df3198>"
      ]
     },
     "metadata": {},
     "output_type": "display_data"
    }
   ],
   "source": [
    "sns.factorplot(x='Pclass',y='Survived',data=df,kind='bar')"
   ]
  },
  {
   "cell_type": "markdown",
   "metadata": {},
   "source": [
    "we see that passenger of class 1 has higher chance of survival over class 2 over class 3"
   ]
  },
  {
   "cell_type": "code",
   "execution_count": 39,
   "metadata": {},
   "outputs": [
    {
     "name": "stdout",
     "output_type": "stream",
     "text": [
      "Pclass           1         2         3\n",
      "Survived                              \n",
      "0         0.373832  0.527174  0.757637\n",
      "1         0.626168  0.472826  0.242363\n"
     ]
    }
   ],
   "source": [
    "ct2=pd.crosstab(df['Survived'],df['Pclass'])\n",
    "\n",
    "proportions2=ct2/ct2.sum(axis=0)\n",
    "print(proportions2)"
   ]
  },
  {
   "cell_type": "markdown",
   "metadata": {},
   "source": [
    "We can see that \n",
    "passengers of class one has higher chance of survival\n",
    "passengers of class two still has big chance of survival but less than class 1 \n"
   ]
  },
  {
   "cell_type": "code",
   "execution_count": 40,
   "metadata": {},
   "outputs": [
    {
     "name": "stdout",
     "output_type": "stream",
     "text": [
      "(100.98040726128336, 1.1813624785477922e-22, 2, array([[132.1552306, 113.6287964, 303.215973 ],\n",
      "       [ 81.8447694,  70.3712036, 187.784027 ]]))\n"
     ]
    }
   ],
   "source": [
    "cs3=scipy.stats.chi2_contingency(ct2)\n",
    "print(cs3)"
   ]
  },
  {
   "cell_type": "markdown",
   "metadata": {},
   "source": [
    "We can see that the chi square is very large and p-vales is so small so we can reject null confidently and say that\n",
    "There is an association between class of passeneger and being survived that being from class 1 has highest chance of survival"
   ]
  },
  {
   "cell_type": "code",
   "execution_count": null,
   "metadata": {},
   "outputs": [],
   "source": []
  },
  {
   "cell_type": "code",
   "execution_count": 45,
   "metadata": {},
   "outputs": [
    {
     "name": "stdout",
     "output_type": "stream",
     "text": [
      "Pclass           1         2         3\n",
      "Survived                              \n",
      "0         0.631148  0.842593  0.864553\n",
      "1         0.368852  0.157407  0.135447\n",
      "(32.954129468508505, 6.983959431184943e-08, 2, array([[ 98.95320624,  87.59792028, 281.44887348],\n",
      "       [ 23.04679376,  20.40207972,  65.55112652]]))\n"
     ]
    }
   ],
   "source": [
    "df_male=df[df['Sex']=='male']\n",
    "ct_male=pd.crosstab(df_male['Survived'],df_male['Pclass'])\n",
    "\n",
    "proportions_male=ct_male/ct_male.sum(axis=0)\n",
    "print(proportions_male)\n",
    "cs_male=scipy.stats.chi2_contingency(ct_male)\n",
    "print(cs_male)"
   ]
  },
  {
   "cell_type": "markdown",
   "metadata": {},
   "source": [
    "We see that there it's same direction in relation that being male doesn' affect order of chnaces of survival between classes"
   ]
  },
  {
   "cell_type": "code",
   "execution_count": 47,
   "metadata": {},
   "outputs": [
    {
     "name": "stdout",
     "output_type": "stream",
     "text": [
      "Pclass           1         2    3\n",
      "Survived                         \n",
      "0         0.032609  0.078947  0.5\n",
      "1         0.967391  0.921053  0.5\n",
      "(80.86072889734217, 2.7625860763598433e-18, 2, array([[ 23.88461538,  19.73076923,  37.38461538],\n",
      "       [ 68.11538462,  56.26923077, 106.61538462]]))\n"
     ]
    }
   ],
   "source": [
    "df_female=df[df['Sex']=='female']\n",
    "ct_female=pd.crosstab(df_female['Survived'],df_female['Pclass'])\n",
    "\n",
    "proportions_female=ct_female/ct_female.sum(axis=0)\n",
    "print(proportions_female)\n",
    "cs_female=scipy.stats.chi2_contingency(ct_female)\n",
    "print(cs_female)"
   ]
  },
  {
   "cell_type": "markdown",
   "metadata": {},
   "source": [
    "also female preserve order of survival between classes but there is something to note here \n",
    "a female passenger of class 1 almost have  100% of survival  0.97 \n",
    "also being female from class 3 have equal chance of survival"
   ]
  },
  {
   "cell_type": "code",
   "execution_count": 51,
   "metadata": {},
   "outputs": [
    {
     "data": {
      "text/plain": [
       "<seaborn.axisgrid.FacetGrid at 0x986bc80b00>"
      ]
     },
     "execution_count": 51,
     "metadata": {},
     "output_type": "execute_result"
    },
    {
     "data": {
      "image/png": "[encoded data removed]",
      "text/plain": [
       "<matplotlib.figure.Figure at 0x986d925630>"
      ]
     },
     "metadata": {},
     "output_type": "display_data"
    }
   ],
   "source": [
    "#Embarked and Pclass \n",
    "sns.factorplot(x='Embarked',data=df,kind='count')"
   ]
  },
  {
   "cell_type": "code",
   "execution_count": 50,
   "metadata": {},
   "outputs": [
    {
     "name": "stdout",
     "output_type": "stream",
     "text": [
      "Pclass           1         2         3\n",
      "Embarked                              \n",
      "C         0.397196  0.092391  0.134420\n",
      "Q         0.009346  0.016304  0.146640\n",
      "S         0.593458  0.891304  0.718941\n",
      "(123.75190952951289, 8.435267819894384e-26, 4, array([[ 40.44094488,  34.77165354,  92.78740157],\n",
      "       [ 18.53543307,  15.93700787,  42.52755906],\n",
      "       [155.02362205, 133.29133858, 355.68503937]]))\n"
     ]
    }
   ],
   "source": [
    "ct_emb_class=pd.crosstab(df['Embarked'],df['Pclass'])\n",
    "\n",
    "proportions_emb_class=ct_emb_class/ct_emb_class.sum(axis=0)\n",
    "print(proportions_emb_class)\n",
    "results=scipy.stats.chi2_contingency(ct_emb_class)\n",
    "print(results)"
   ]
  },
  {
   "cell_type": "markdown",
   "metadata": {},
   "source": [
    "analysis of association between age and survived \n",
    "we can suspect that people of older age have higher chance of survival"
   ]
  },
  {
   "cell_type": "code",
   "execution_count": 53,
   "metadata": {},
   "outputs": [
    {
     "data": {
      "text/plain": [
       "count    889.000000\n",
       "mean      29.315152\n",
       "std       12.984932\n",
       "min        0.420000\n",
       "25%       22.000000\n",
       "50%       28.000000\n",
       "75%       35.000000\n",
       "max       80.000000\n",
       "Name: Age, dtype: float64"
      ]
     },
     "execution_count": 53,
     "metadata": {},
     "output_type": "execute_result"
    },
    {
     "data": {
      "image/png": "[encoded data removed]",
      "text/plain": [
       "<matplotlib.figure.Figure at 0x9871e75550>"
      ]
     },
     "metadata": {},
     "output_type": "display_data"
    }
   ],
   "source": [
    "sns.distplot(df['Age'])\n",
    "df['Age'].describe()"
   ]
  },
  {
   "cell_type": "code",
   "execution_count": 54,
   "metadata": {},
   "outputs": [
    {
     "data": {
      "text/plain": [
       "<seaborn.axisgrid.FacetGrid at 0x986e275320>"
      ]
     },
     "execution_count": 54,
     "metadata": {},
     "output_type": "execute_result"
    },
    {
     "data": {
      "image/png": "[encoded data removed]",
      "text/plain": [
       "<matplotlib.figure.Figure at 0x986ff18208>"
      ]
     },
     "metadata": {},
     "output_type": "display_data"
    }
   ],
   "source": [
    "sns.factorplot(x='Survived',y='Age',data=df,kind='box')"
   ]
  },
  {
   "cell_type": "markdown",
   "metadata": {},
   "source": [
    "from drawing there is a big overlapping between distribution of ages between survived and not survived \n",
    "so we can expect that there is no big difference between means "
   ]
  },
  {
   "cell_type": "code",
   "execution_count": 56,
   "metadata": {},
   "outputs": [
    {
     "name": "stdout",
     "output_type": "stream",
     "text": [
      "                            OLS Regression Results                            \n",
      "==============================================================================\n",
      "Dep. Variable:                    Age   R-squared:                       0.005\n",
      "Model:                            OLS   Adj. R-squared:                  0.004\n",
      "Method:                 Least Squares   F-statistic:                     4.345\n",
      "Date:                Sun, 28 Apr 2019   Prob (F-statistic):             0.0374\n",
      "Time:                        14:25:59   Log-Likelihood:                -3538.0\n",
      "No. Observations:                 889   AIC:                             7080.\n",
      "Df Residuals:                     887   BIC:                             7090.\n",
      "Df Model:                           1                                         \n",
      "Covariance Type:            nonrobust                                         \n",
      "====================================================================================\n",
      "                       coef    std err          t      P>|t|      [0.025      0.975]\n",
      "------------------------------------------------------------------------------------\n",
      "Intercept           30.0282      0.553     54.287      0.000      28.943      31.114\n",
      "C(Survived)[T.1]    -1.8645      0.894     -2.085      0.037      -3.620      -0.109\n",
      "==============================================================================\n",
      "Omnibus:                       54.748   Durbin-Watson:                   1.933\n",
      "Prob(Omnibus):                  0.000   Jarque-Bera (JB):               74.113\n",
      "Skew:                           0.530   Prob(JB):                     8.06e-17\n",
      "Kurtosis:                       3.938   Cond. No.                         2.43\n",
      "==============================================================================\n",
      "\n",
      "Warnings:\n",
      "[1] Standard Errors assume that the covariance matrix of the errors is correctly specified.\n"
     ]
    }
   ],
   "source": [
    "model=smf.ols(formula='Age ~ C(Survived)',data=df).fit()\n",
    "print(model.summary())"
   ]
  },
  {
   "cell_type": "code",
   "execution_count": 58,
   "metadata": {},
   "outputs": [
    {
     "name": "stdout",
     "output_type": "stream",
     "text": [
      "Survived\n",
      "0    30.028233\n",
      "1    28.163735\n",
      "Name: Age, dtype: float64\n",
      "Survived\n",
      "0    12.499986\n",
      "1    13.672269\n",
      "Name: Age, dtype: float64\n"
     ]
    }
   ],
   "source": [
    "print(df.groupby('Survived')['Age'].mean())\n",
    "print(df.groupby('Survived')['Age'].std())"
   ]
  },
  {
   "cell_type": "code",
   "execution_count": 63,
   "metadata": {},
   "outputs": [
    {
     "data": {
      "text/plain": [
       "(0.4145416380997265, 3.0940341670178025e-38)"
      ]
     },
     "execution_count": 63,
     "metadata": {},
     "output_type": "execute_result"
    }
   ],
   "source": [
    "scipy.stats.pearsonr(df['SibSp'],df['Parch'])"
   ]
  },
  {
   "cell_type": "markdown",
   "metadata": {},
   "source": [
    "We can see that there's a staistically signifcant weak linear relation bertween SibSp and Parch"
   ]
  },
  {
   "cell_type": "code",
   "execution_count": 68,
   "metadata": {},
   "outputs": [
    {
     "data": {
      "text/plain": [
       "<matplotlib.axes._subplots.AxesSubplot at 0x9873e0ea20>"
      ]
     },
     "execution_count": 68,
     "metadata": {},
     "output_type": "execute_result"
    },
    {
     "data": {
      "image/png": "[encoded data removed]",
      "text/plain": [
       "<matplotlib.figure.Figure at 0x9873966b00>"
      ]
     },
     "metadata": {},
     "output_type": "display_data"
    }
   ],
   "source": [
    "sns.regplot(y='Parch',x='SibSp',data=df)"
   ]
  },
  {
   "cell_type": "code",
   "execution_count": null,
   "metadata": {},
   "outputs": [],
   "source": []
  }
 ],
 "metadata": {
  "kernelspec": {
   "display_name": "Python 3",
   "language": "python",
   "name": "python3"
  },
  "language_info": {
   "codemirror_mode": {
    "name": "ipython",
    "version": 3
   },
   "file_extension": ".py",
   "mimetype": "text/x-python",
   "name": "python",
   "nbconvert_exporter": "python",
   "pygments_lexer": "ipython3",
   "version": "3.6.4"
  }
 },
 "nbformat": 4,
 "nbformat_minor": 2
}
